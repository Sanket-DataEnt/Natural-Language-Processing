{
 "cells": [
  {
   "cell_type": "markdown",
   "metadata": {},
   "source": [
    "### Bank Note Authentication"
   ]
  },
  {
   "cell_type": "markdown",
   "metadata": {},
   "source": [
    "Data were extracted from images that were taken from genuine and forged banknote-like specimens. For digitization, an industrial camera usually used for print inspection was used. The final images have 400x 400 pixels. Due to the object lens and distance to the investigated object gray-scale pictures with a resolution of about 660 dpi were gained. Wavelet Transform tool were used to extract features from images."
   ]
  },
  {
   "cell_type": "code",
   "execution_count": 1,
   "metadata": {},
   "outputs": [],
   "source": [
    "##Dataset Link: https://www.kaggle.com/ritesaluja/bank-note-authentication-uci-data\n",
    "import pandas as pd\n",
    "import numpy as np"
   ]
  },
  {
   "cell_type": "code",
   "execution_count": 2,
   "metadata": {},
   "outputs": [],
   "source": [
    "df=pd.read_csv('BankNote_Authentication.csv')"
   ]
  },
  {
   "cell_type": "code",
   "execution_count": 3,
   "metadata": {},
   "outputs": [
    {
     "output_type": "execute_result",
     "data": {
      "text/plain": [
       "      variance  skewness  curtosis  entropy  class\n",
       "0      3.62160   8.66610   -2.8073 -0.44699      0\n",
       "1      4.54590   8.16740   -2.4586 -1.46210      0\n",
       "2      3.86600  -2.63830    1.9242  0.10645      0\n",
       "3      3.45660   9.52280   -4.0112 -3.59440      0\n",
       "4      0.32924  -4.45520    4.5718 -0.98880      0\n",
       "...        ...       ...       ...      ...    ...\n",
       "1367   0.40614   1.34920   -1.4501 -0.55949      1\n",
       "1368  -1.38870  -4.87730    6.4774  0.34179      1\n",
       "1369  -3.75030 -13.45860   17.5932 -2.77710      1\n",
       "1370  -3.56370  -8.38270   12.3930 -1.28230      1\n",
       "1371  -2.54190  -0.65804    2.6842  1.19520      1\n",
       "\n",
       "[1372 rows x 5 columns]"
      ],
      "text/html": "<div>\n<style scoped>\n    .dataframe tbody tr th:only-of-type {\n        vertical-align: middle;\n    }\n\n    .dataframe tbody tr th {\n        vertical-align: top;\n    }\n\n    .dataframe thead th {\n        text-align: right;\n    }\n</style>\n<table border=\"1\" class=\"dataframe\">\n  <thead>\n    <tr style=\"text-align: right;\">\n      <th></th>\n      <th>variance</th>\n      <th>skewness</th>\n      <th>curtosis</th>\n      <th>entropy</th>\n      <th>class</th>\n    </tr>\n  </thead>\n  <tbody>\n    <tr>\n      <th>0</th>\n      <td>3.621600</td>\n      <td>8.66610</td>\n      <td>-2.807300</td>\n      <td>-0.446990</td>\n      <td>0</td>\n    </tr>\n    <tr>\n      <th>1</th>\n      <td>4.545900</td>\n      <td>8.16740</td>\n      <td>-2.458600</td>\n      <td>-1.462100</td>\n      <td>0</td>\n    </tr>\n    <tr>\n      <th>2</th>\n      <td>3.866000</td>\n      <td>-2.63830</td>\n      <td>1.924200</td>\n      <td>0.106450</td>\n      <td>0</td>\n    </tr>\n    <tr>\n      <th>3</th>\n      <td>3.456600</td>\n      <td>9.52280</td>\n      <td>-4.011200</td>\n      <td>-3.594400</td>\n      <td>0</td>\n    </tr>\n    <tr>\n      <th>4</th>\n      <td>0.329240</td>\n      <td>-4.45520</td>\n      <td>4.571800</td>\n      <td>-0.988800</td>\n      <td>0</td>\n    </tr>\n    <tr>\n      <th>5</th>\n      <td>4.368400</td>\n      <td>9.67180</td>\n      <td>-3.960600</td>\n      <td>-3.162500</td>\n      <td>0</td>\n    </tr>\n    <tr>\n      <th>6</th>\n      <td>3.591200</td>\n      <td>3.01290</td>\n      <td>0.728880</td>\n      <td>0.564210</td>\n      <td>0</td>\n    </tr>\n    <tr>\n      <th>7</th>\n      <td>2.092200</td>\n      <td>-6.81000</td>\n      <td>8.463600</td>\n      <td>-0.602160</td>\n      <td>0</td>\n    </tr>\n    <tr>\n      <th>8</th>\n      <td>3.203200</td>\n      <td>5.75880</td>\n      <td>-0.753450</td>\n      <td>-0.612510</td>\n      <td>0</td>\n    </tr>\n    <tr>\n      <th>9</th>\n      <td>1.535600</td>\n      <td>9.17720</td>\n      <td>-2.271800</td>\n      <td>-0.735350</td>\n      <td>0</td>\n    </tr>\n    <tr>\n      <th>10</th>\n      <td>1.224700</td>\n      <td>8.77790</td>\n      <td>-2.213500</td>\n      <td>-0.806470</td>\n      <td>0</td>\n    </tr>\n    <tr>\n      <th>11</th>\n      <td>3.989900</td>\n      <td>-2.70660</td>\n      <td>2.394600</td>\n      <td>0.862910</td>\n      <td>0</td>\n    </tr>\n    <tr>\n      <th>12</th>\n      <td>1.899300</td>\n      <td>7.66250</td>\n      <td>0.153940</td>\n      <td>-3.110800</td>\n      <td>0</td>\n    </tr>\n    <tr>\n      <th>13</th>\n      <td>-1.576800</td>\n      <td>10.84300</td>\n      <td>2.546200</td>\n      <td>-2.936200</td>\n      <td>0</td>\n    </tr>\n    <tr>\n      <th>14</th>\n      <td>3.404000</td>\n      <td>8.72610</td>\n      <td>-2.991500</td>\n      <td>-0.572420</td>\n      <td>0</td>\n    </tr>\n    <tr>\n      <th>15</th>\n      <td>4.676500</td>\n      <td>-3.38950</td>\n      <td>3.489600</td>\n      <td>1.477100</td>\n      <td>0</td>\n    </tr>\n    <tr>\n      <th>16</th>\n      <td>2.671900</td>\n      <td>3.06460</td>\n      <td>0.371580</td>\n      <td>0.586190</td>\n      <td>0</td>\n    </tr>\n    <tr>\n      <th>17</th>\n      <td>0.803550</td>\n      <td>2.84730</td>\n      <td>4.343900</td>\n      <td>0.601700</td>\n      <td>0</td>\n    </tr>\n    <tr>\n      <th>18</th>\n      <td>1.447900</td>\n      <td>-4.87940</td>\n      <td>8.342800</td>\n      <td>-2.108600</td>\n      <td>0</td>\n    </tr>\n    <tr>\n      <th>19</th>\n      <td>5.242300</td>\n      <td>11.02720</td>\n      <td>-4.353000</td>\n      <td>-4.101300</td>\n      <td>0</td>\n    </tr>\n    <tr>\n      <th>20</th>\n      <td>5.786700</td>\n      <td>7.89020</td>\n      <td>-2.619600</td>\n      <td>-0.487080</td>\n      <td>0</td>\n    </tr>\n    <tr>\n      <th>21</th>\n      <td>0.329200</td>\n      <td>-4.45520</td>\n      <td>4.571800</td>\n      <td>-0.988800</td>\n      <td>0</td>\n    </tr>\n    <tr>\n      <th>22</th>\n      <td>3.936200</td>\n      <td>10.16220</td>\n      <td>-3.823500</td>\n      <td>-4.017200</td>\n      <td>0</td>\n    </tr>\n    <tr>\n      <th>23</th>\n      <td>0.935840</td>\n      <td>8.88550</td>\n      <td>-1.683100</td>\n      <td>-1.659900</td>\n      <td>0</td>\n    </tr>\n    <tr>\n      <th>24</th>\n      <td>4.433800</td>\n      <td>9.88700</td>\n      <td>-4.679500</td>\n      <td>-3.748300</td>\n      <td>0</td>\n    </tr>\n    <tr>\n      <th>25</th>\n      <td>0.705700</td>\n      <td>-5.49810</td>\n      <td>8.336800</td>\n      <td>-2.871500</td>\n      <td>0</td>\n    </tr>\n    <tr>\n      <th>26</th>\n      <td>1.143200</td>\n      <td>-3.74130</td>\n      <td>5.577700</td>\n      <td>-0.635780</td>\n      <td>0</td>\n    </tr>\n    <tr>\n      <th>27</th>\n      <td>-0.382140</td>\n      <td>8.39090</td>\n      <td>2.162400</td>\n      <td>-3.740500</td>\n      <td>0</td>\n    </tr>\n    <tr>\n      <th>28</th>\n      <td>6.563300</td>\n      <td>9.81870</td>\n      <td>-4.411300</td>\n      <td>-3.225800</td>\n      <td>0</td>\n    </tr>\n    <tr>\n      <th>29</th>\n      <td>4.890600</td>\n      <td>-3.35840</td>\n      <td>3.420200</td>\n      <td>1.090500</td>\n      <td>0</td>\n    </tr>\n    <tr>\n      <th>...</th>\n      <td>...</td>\n      <td>...</td>\n      <td>...</td>\n      <td>...</td>\n      <td>...</td>\n    </tr>\n    <tr>\n      <th>1342</th>\n      <td>-1.747900</td>\n      <td>-5.82300</td>\n      <td>5.869900</td>\n      <td>1.212000</td>\n      <td>1</td>\n    </tr>\n    <tr>\n      <th>1343</th>\n      <td>-0.959230</td>\n      <td>-6.71280</td>\n      <td>4.985700</td>\n      <td>0.328860</td>\n      <td>1</td>\n    </tr>\n    <tr>\n      <th>1344</th>\n      <td>1.345100</td>\n      <td>0.23589</td>\n      <td>-1.878500</td>\n      <td>1.325800</td>\n      <td>1</td>\n    </tr>\n    <tr>\n      <th>1345</th>\n      <td>2.227900</td>\n      <td>4.09510</td>\n      <td>-4.803700</td>\n      <td>-2.111200</td>\n      <td>1</td>\n    </tr>\n    <tr>\n      <th>1346</th>\n      <td>1.257200</td>\n      <td>4.87310</td>\n      <td>-5.286100</td>\n      <td>-5.874100</td>\n      <td>1</td>\n    </tr>\n    <tr>\n      <th>1347</th>\n      <td>-5.385700</td>\n      <td>9.12140</td>\n      <td>-0.419290</td>\n      <td>-5.918100</td>\n      <td>1</td>\n    </tr>\n    <tr>\n      <th>1348</th>\n      <td>-2.978600</td>\n      <td>2.34450</td>\n      <td>0.526670</td>\n      <td>-0.401730</td>\n      <td>1</td>\n    </tr>\n    <tr>\n      <th>1349</th>\n      <td>-1.585100</td>\n      <td>-2.15620</td>\n      <td>1.708200</td>\n      <td>0.901700</td>\n      <td>1</td>\n    </tr>\n    <tr>\n      <th>1350</th>\n      <td>-0.218880</td>\n      <td>-2.20380</td>\n      <td>-0.095400</td>\n      <td>0.564210</td>\n      <td>1</td>\n    </tr>\n    <tr>\n      <th>1351</th>\n      <td>1.318300</td>\n      <td>1.90170</td>\n      <td>-3.311100</td>\n      <td>0.065071</td>\n      <td>1</td>\n    </tr>\n    <tr>\n      <th>1352</th>\n      <td>1.489600</td>\n      <td>3.42880</td>\n      <td>-4.030900</td>\n      <td>-1.425900</td>\n      <td>1</td>\n    </tr>\n    <tr>\n      <th>1353</th>\n      <td>0.115920</td>\n      <td>3.22190</td>\n      <td>-3.430200</td>\n      <td>-2.845700</td>\n      <td>1</td>\n    </tr>\n    <tr>\n      <th>1354</th>\n      <td>-3.392400</td>\n      <td>3.35640</td>\n      <td>-0.720040</td>\n      <td>-3.523300</td>\n      <td>1</td>\n    </tr>\n    <tr>\n      <th>1355</th>\n      <td>-6.163200</td>\n      <td>8.70960</td>\n      <td>-0.216210</td>\n      <td>-3.634500</td>\n      <td>1</td>\n    </tr>\n    <tr>\n      <th>1356</th>\n      <td>-4.078600</td>\n      <td>2.92390</td>\n      <td>0.870260</td>\n      <td>-0.653890</td>\n      <td>1</td>\n    </tr>\n    <tr>\n      <th>1357</th>\n      <td>-2.589900</td>\n      <td>-0.39110</td>\n      <td>0.934520</td>\n      <td>0.429720</td>\n      <td>1</td>\n    </tr>\n    <tr>\n      <th>1358</th>\n      <td>-1.011600</td>\n      <td>-0.19038</td>\n      <td>-0.905970</td>\n      <td>0.003003</td>\n      <td>1</td>\n    </tr>\n    <tr>\n      <th>1359</th>\n      <td>0.066129</td>\n      <td>2.49140</td>\n      <td>-2.940100</td>\n      <td>-0.621560</td>\n      <td>1</td>\n    </tr>\n    <tr>\n      <th>1360</th>\n      <td>-0.247450</td>\n      <td>1.93680</td>\n      <td>-2.469700</td>\n      <td>-0.805180</td>\n      <td>1</td>\n    </tr>\n    <tr>\n      <th>1361</th>\n      <td>-1.573200</td>\n      <td>1.06360</td>\n      <td>-0.712320</td>\n      <td>-0.838800</td>\n      <td>1</td>\n    </tr>\n    <tr>\n      <th>1362</th>\n      <td>-2.166800</td>\n      <td>1.59330</td>\n      <td>0.045122</td>\n      <td>-1.678000</td>\n      <td>1</td>\n    </tr>\n    <tr>\n      <th>1363</th>\n      <td>-1.166700</td>\n      <td>-1.42370</td>\n      <td>2.924100</td>\n      <td>0.661190</td>\n      <td>1</td>\n    </tr>\n    <tr>\n      <th>1364</th>\n      <td>-2.839100</td>\n      <td>-6.63000</td>\n      <td>10.484900</td>\n      <td>-0.421130</td>\n      <td>1</td>\n    </tr>\n    <tr>\n      <th>1365</th>\n      <td>-4.504600</td>\n      <td>-5.81260</td>\n      <td>10.886700</td>\n      <td>-0.528460</td>\n      <td>1</td>\n    </tr>\n    <tr>\n      <th>1366</th>\n      <td>-2.410000</td>\n      <td>3.74330</td>\n      <td>-0.402150</td>\n      <td>-1.295300</td>\n      <td>1</td>\n    </tr>\n    <tr>\n      <th>1367</th>\n      <td>0.406140</td>\n      <td>1.34920</td>\n      <td>-1.450100</td>\n      <td>-0.559490</td>\n      <td>1</td>\n    </tr>\n    <tr>\n      <th>1368</th>\n      <td>-1.388700</td>\n      <td>-4.87730</td>\n      <td>6.477400</td>\n      <td>0.341790</td>\n      <td>1</td>\n    </tr>\n    <tr>\n      <th>1369</th>\n      <td>-3.750300</td>\n      <td>-13.45860</td>\n      <td>17.593200</td>\n      <td>-2.777100</td>\n      <td>1</td>\n    </tr>\n    <tr>\n      <th>1370</th>\n      <td>-3.563700</td>\n      <td>-8.38270</td>\n      <td>12.393000</td>\n      <td>-1.282300</td>\n      <td>1</td>\n    </tr>\n    <tr>\n      <th>1371</th>\n      <td>-2.541900</td>\n      <td>-0.65804</td>\n      <td>2.684200</td>\n      <td>1.195200</td>\n      <td>1</td>\n    </tr>\n  </tbody>\n</table>\n<p>1372 rows × 5 columns</p>\n</div>"
     },
     "metadata": {},
     "execution_count": 3
    }
   ],
   "source": [
    "df"
   ]
  },
  {
   "cell_type": "code",
   "execution_count": 4,
   "metadata": {},
   "outputs": [],
   "source": [
    "### Independent and Dependent features\n",
    "X=df.iloc[:,:-1]\n",
    "y=df.iloc[:,-1]"
   ]
  },
  {
   "cell_type": "code",
   "execution_count": 5,
   "metadata": {},
   "outputs": [
    {
     "output_type": "execute_result",
     "data": {
      "text/plain": [
       "   variance  skewness  curtosis  entropy\n",
       "0   3.62160    8.6661   -2.8073 -0.44699\n",
       "1   4.54590    8.1674   -2.4586 -1.46210\n",
       "2   3.86600   -2.6383    1.9242  0.10645\n",
       "3   3.45660    9.5228   -4.0112 -3.59440\n",
       "4   0.32924   -4.4552    4.5718 -0.98880"
      ],
      "text/html": "<div>\n<style scoped>\n    .dataframe tbody tr th:only-of-type {\n        vertical-align: middle;\n    }\n\n    .dataframe tbody tr th {\n        vertical-align: top;\n    }\n\n    .dataframe thead th {\n        text-align: right;\n    }\n</style>\n<table border=\"1\" class=\"dataframe\">\n  <thead>\n    <tr style=\"text-align: right;\">\n      <th></th>\n      <th>variance</th>\n      <th>skewness</th>\n      <th>curtosis</th>\n      <th>entropy</th>\n    </tr>\n  </thead>\n  <tbody>\n    <tr>\n      <th>0</th>\n      <td>3.62160</td>\n      <td>8.6661</td>\n      <td>-2.8073</td>\n      <td>-0.44699</td>\n    </tr>\n    <tr>\n      <th>1</th>\n      <td>4.54590</td>\n      <td>8.1674</td>\n      <td>-2.4586</td>\n      <td>-1.46210</td>\n    </tr>\n    <tr>\n      <th>2</th>\n      <td>3.86600</td>\n      <td>-2.6383</td>\n      <td>1.9242</td>\n      <td>0.10645</td>\n    </tr>\n    <tr>\n      <th>3</th>\n      <td>3.45660</td>\n      <td>9.5228</td>\n      <td>-4.0112</td>\n      <td>-3.59440</td>\n    </tr>\n    <tr>\n      <th>4</th>\n      <td>0.32924</td>\n      <td>-4.4552</td>\n      <td>4.5718</td>\n      <td>-0.98880</td>\n    </tr>\n  </tbody>\n</table>\n</div>"
     },
     "metadata": {},
     "execution_count": 5
    }
   ],
   "source": [
    "X.head()"
   ]
  },
  {
   "cell_type": "code",
   "execution_count": 6,
   "metadata": {},
   "outputs": [
    {
     "output_type": "execute_result",
     "data": {
      "text/plain": [
       "0     0\n",
       "1     0\n",
       "2     0\n",
       "3     0\n",
       "4     0\n",
       "5     0\n",
       "6     0\n",
       "7     0\n",
       "8     0\n",
       "9     0\n",
       "10    0\n",
       "11    0\n",
       "12    0\n",
       "13    0\n",
       "14    0\n",
       "15    0\n",
       "16    0\n",
       "17    0\n",
       "18    0\n",
       "19    0\n",
       "Name: class, dtype: int64"
      ]
     },
     "metadata": {},
     "execution_count": 6
    }
   ],
   "source": [
    "y.head(20)"
   ]
  },
  {
   "cell_type": "code",
   "execution_count": 7,
   "metadata": {},
   "outputs": [],
   "source": [
    "### Train Test Split\n",
    "from sklearn.model_selection import train_test_split"
   ]
  },
  {
   "cell_type": "code",
   "execution_count": 8,
   "metadata": {},
   "outputs": [],
   "source": [
    "X_train,X_test,y_train,y_test=train_test_split(X,y,test_size=0.3,random_state=0)"
   ]
  },
  {
   "cell_type": "code",
   "execution_count": 9,
   "metadata": {},
   "outputs": [
    {
     "output_type": "execute_result",
     "data": {
      "text/plain": [
       "RandomForestClassifier()"
      ]
     },
     "metadata": {},
     "execution_count": 9
    }
   ],
   "source": [
    "### Implement Random Forest classifier\n",
    "from sklearn.ensemble import RandomForestClassifier\n",
    "classifier=RandomForestClassifier()\n",
    "classifier.fit(X_train,y_train)"
   ]
  },
  {
   "cell_type": "code",
   "execution_count": 10,
   "metadata": {},
   "outputs": [],
   "source": [
    "## Prediction\n",
    "y_pred=classifier.predict(X_test)"
   ]
  },
  {
   "cell_type": "code",
   "execution_count": 11,
   "metadata": {},
   "outputs": [],
   "source": [
    "### Check Accuracy\n",
    "from sklearn.metrics import accuracy_score\n",
    "score=accuracy_score(y_test,y_pred)"
   ]
  },
  {
   "cell_type": "code",
   "execution_count": 12,
   "metadata": {},
   "outputs": [
    {
     "output_type": "execute_result",
     "data": {
      "text/plain": [
       "0.9902912621359223"
      ]
     },
     "metadata": {},
     "execution_count": 12
    }
   ],
   "source": [
    "score"
   ]
  },
  {
   "cell_type": "code",
   "execution_count": 13,
   "metadata": {},
   "outputs": [],
   "source": [
    "### Create a Pickle file using serialization \n",
    "import pickle\n",
    "pickle_out = open(\"classifier.pkl\",\"wb\")\n",
    "pickle.dump(classifier, pickle_out)\n",
    "pickle_out.close()"
   ]
  },
  {
   "cell_type": "code",
   "execution_count": 14,
   "metadata": {},
   "outputs": [],
   "source": [
    "import numpy as np"
   ]
  },
  {
   "cell_type": "code",
   "execution_count": 15,
   "metadata": {},
   "outputs": [
    {
     "output_type": "execute_result",
     "data": {
      "text/plain": [
       "array([0])"
      ]
     },
     "metadata": {},
     "execution_count": 15
    }
   ],
   "source": [
    "classifier.predict([[2,3,4,1]])"
   ]
  },
  {
   "cell_type": "code",
   "execution_count": null,
   "metadata": {},
   "outputs": [],
   "source": []
  }
 ],
 "metadata": {
  "kernelspec": {
   "name": "python374jvsc74a57bd0b1aaf69b46cd287f34194bb4faccca03f235ff03eb41eef97964f082ee42768a",
   "display_name": "Python 3.7.4 64-bit ('ml': conda)"
  },
  "language_info": {
   "codemirror_mode": {
    "name": "ipython",
    "version": 3
   },
   "file_extension": ".py",
   "mimetype": "text/x-python",
   "name": "python",
   "nbconvert_exporter": "python",
   "pygments_lexer": "ipython3",
   "version": "3.7.4"
  }
 },
 "nbformat": 4,
 "nbformat_minor": 2
}