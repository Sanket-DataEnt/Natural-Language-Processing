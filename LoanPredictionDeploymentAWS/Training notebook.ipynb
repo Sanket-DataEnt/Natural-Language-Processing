{
 "cells": [
  {
   "cell_type": "code",
   "execution_count": 67,
   "metadata": {},
   "outputs": [],
   "source": [
    "#boto3 => Pyhton library for calling up AWS services\n",
    "import boto3\n",
    "import sagemaker\n",
    "from sagemaker import get_execution_role"
   ]
  },
  {
   "cell_type": "markdown",
   "metadata": {},
   "source": [
    "upload the datasets into S3 bucket"
   ]
  },
  {
   "cell_type": "code",
   "execution_count": 68,
   "metadata": {},
   "outputs": [],
   "source": [
    "#provide the name and location of the files to be stored in the S3 bucket\n",
    "bucket_name = 's3bucketloanprediction'\n",
    "train_file_name = 'Loan Prediction/Train_final.csv'\n",
    "val_file_name = 'Loan Prediction/Val_final.csv'\n",
    "test_file_name = 'Loan Prediction/Test_final.csv'\n",
    "\n",
    "model_output_location = r's3://{0}/LoanPrediction/model'.format(bucket_name)\n",
    "train_file_location = r's3://{0}/{1}'.format(bucket_name, train_file_name)\n",
    "val_file_location = r's3://{0}/{1}'.format(bucket_name, val_file_name)\n",
    "test_file_location = r's3://{0}/{1}'.format(bucket_name, test_file_name)"
   ]
  },
  {
   "cell_type": "code",
   "execution_count": 69,
   "metadata": {},
   "outputs": [],
   "source": [
    "#define a method for writing into s3 bucket\n",
    "def write_to_s3(filename, bucket, key):\n",
    "    with open(filename, 'rb') as f:\n",
    "        return boto3.Session().resource('s3').Bucket(bucket).Object(key).upload_fileobj(f)"
   ]
  },
  {
   "cell_type": "code",
   "execution_count": 70,
   "metadata": {},
   "outputs": [],
   "source": [
    "write_to_s3('Train_final.csv', bucket_name, train_file_name)\n",
    "write_to_s3('Val_final.csv', bucket_name, val_file_name)\n",
    "write_to_s3('Test_final.csv', bucket_name, test_file_name)"
   ]
  },
  {
   "cell_type": "code",
   "execution_count": 71,
   "metadata": {},
   "outputs": [],
   "source": [
    "#provide the ECR container path since we are using north california\n",
    "container = {'us-west-1': '746614075791.dkr.ecr.us-west-1.amazonaws.com/sagemaker-xgboost:1.0-1-cpu-py3'}"
   ]
  },
  {
   "cell_type": "code",
   "execution_count": 72,
   "metadata": {},
   "outputs": [
    {
     "name": "stdout",
     "output_type": "stream",
     "text": [
      "us-west-1\n"
     ]
    }
   ],
   "source": [
    "print(boto3.Session().region_name)"
   ]
  },
  {
   "cell_type": "code",
   "execution_count": 73,
   "metadata": {},
   "outputs": [],
   "source": [
    "role = get_execution_role()"
   ]
  },
  {
   "cell_type": "code",
   "execution_count": 74,
   "metadata": {},
   "outputs": [
    {
     "name": "stdout",
     "output_type": "stream",
     "text": [
      "arn:aws:iam::528215570578:role/service-role/AmazonSageMaker-ExecutionRole-20200714T141836\n"
     ]
    }
   ],
   "source": [
    "print(role)"
   ]
  },
  {
   "cell_type": "markdown",
   "metadata": {},
   "source": [
    "### Build Model"
   ]
  },
  {
   "cell_type": "code",
   "execution_count": 75,
   "metadata": {},
   "outputs": [],
   "source": [
    "#create a sagemaker session\n",
    "sess = sagemaker.Session()"
   ]
  },
  {
   "cell_type": "code",
   "execution_count": 76,
   "metadata": {},
   "outputs": [
    {
     "name": "stderr",
     "output_type": "stream",
     "text": [
      "Parameter image_name will be renamed to image_uri in SageMaker Python SDK v2.\n"
     ]
    }
   ],
   "source": [
    "estimator = sagemaker.estimator.Estimator(container[boto3.Session().region_name],\n",
    "                                          role,\n",
    "                                          train_instance_count = 1,\n",
    "                                          train_instance_type='ml.m4.xlarge',\n",
    "                                          output_path = model_output_location, \n",
    "                                          sagemaker_session = sess,\n",
    "                                          base_job_name = 'xgboost-loanprediction'\n",
    "                                         )"
   ]
  },
  {
   "cell_type": "code",
   "execution_count": 91,
   "metadata": {},
   "outputs": [],
   "source": [
    "#setting hyperparameters corresponding to the XGBoost algorithm\n",
    "estimator.set_hyperparameters(max_depth=5, \n",
    "                              objective = 'binary:logistic', \n",
    "                              eta=0.1,\n",
    "                              subsample=0.7,\n",
    "                              num_round=10,\n",
    "                              eval_metric = 'auc')"
   ]
  },
  {
   "cell_type": "code",
   "execution_count": 92,
   "metadata": {},
   "outputs": [
    {
     "data": {
      "text/plain": [
       "{'max_depth': 5,\n",
       " 'objective': 'binary:logistic',\n",
       " 'eta': 0.1,\n",
       " 'subsample': 0.7,\n",
       " 'num_round': 10,\n",
       " 'eval_metric': 'auc'}"
      ]
     },
     "execution_count": 92,
     "metadata": {},
     "output_type": "execute_result"
    }
   ],
   "source": [
    "estimator.hyperparameters()"
   ]
  },
  {
   "cell_type": "code",
   "execution_count": 93,
   "metadata": {},
   "outputs": [
    {
     "name": "stderr",
     "output_type": "stream",
     "text": [
      "'s3_input' class will be renamed to 'TrainingInput' in SageMaker Python SDK v2.\n",
      "'s3_input' class will be renamed to 'TrainingInput' in SageMaker Python SDK v2.\n"
     ]
    }
   ],
   "source": [
    "#training the model using fit model\n",
    "training_file = sagemaker.session.s3_input(s3_data=train_file_location, content_type = \"csv\")\n",
    "validation_file = sagemaker.session.s3_input(s3_data=val_file_location, content_type = \"csv\")"
   ]
  },
  {
   "cell_type": "code",
   "execution_count": 94,
   "metadata": {},
   "outputs": [
    {
     "name": "stdout",
     "output_type": "stream",
     "text": [
      "{'DataSource': {'S3DataSource': {'S3DataType': 'S3Prefix', 'S3Uri': 's3://s3bucketloanprediction/Loan Prediction/Train_final.csv', 'S3DataDistributionType': 'FullyReplicated'}}, 'ContentType': 'csv'}\n"
     ]
    }
   ],
   "source": [
    "print(training_file.config)"
   ]
  },
  {
   "cell_type": "code",
   "execution_count": 95,
   "metadata": {},
   "outputs": [
    {
     "name": "stdout",
     "output_type": "stream",
     "text": [
      "{'DataSource': {'S3DataSource': {'S3DataType': 'S3Prefix', 'S3Uri': 's3://s3bucketloanprediction/Loan Prediction/Val_final.csv', 'S3DataDistributionType': 'FullyReplicated'}}, 'ContentType': 'csv'}\n"
     ]
    }
   ],
   "source": [
    "print(validation_file.config)"
   ]
  },
  {
   "cell_type": "code",
   "execution_count": 96,
   "metadata": {},
   "outputs": [],
   "source": [
    "data_channels = {'train':training_file, 'validation':validation_file}"
   ]
  },
  {
   "cell_type": "code",
   "execution_count": 97,
   "metadata": {},
   "outputs": [
    {
     "name": "stdout",
     "output_type": "stream",
     "text": [
      "2020-08-05 05:10:04 Starting - Starting the training job...\n",
      "2020-08-05 05:10:06 Starting - Launching requested ML instances.........\n",
      "2020-08-05 05:11:41 Starting - Preparing the instances for training...\n",
      "2020-08-05 05:12:27 Downloading - Downloading input data...\n",
      "2020-08-05 05:12:43 Training - Downloading the training image...\n",
      "2020-08-05 05:13:34 Uploading - Uploading generated training model\n",
      "2020-08-05 05:13:34 Completed - Training job completed\n",
      "\u001b[34mINFO:sagemaker-containers:Imported framework sagemaker_xgboost_container.training\u001b[0m\n",
      "\u001b[34mINFO:sagemaker-containers:Failed to parse hyperparameter eval_metric value auc to Json.\u001b[0m\n",
      "\u001b[34mReturning the value itself\u001b[0m\n",
      "\u001b[34mINFO:sagemaker-containers:Failed to parse hyperparameter objective value binary:logistic to Json.\u001b[0m\n",
      "\u001b[34mReturning the value itself\u001b[0m\n",
      "\u001b[34mINFO:sagemaker-containers:No GPUs detected (normal if no gpus installed)\u001b[0m\n",
      "\u001b[34mINFO:sagemaker_xgboost_container.training:Running XGBoost Sagemaker in algorithm mode\u001b[0m\n",
      "\u001b[34mINFO:root:Determined delimiter of CSV input is ','\u001b[0m\n",
      "\u001b[34mINFO:root:Determined delimiter of CSV input is ','\u001b[0m\n",
      "\u001b[34mINFO:root:Determined delimiter of CSV input is ','\u001b[0m\n",
      "\u001b[34m[05:13:23] 460x11 matrix with 5060 entries loaded from /opt/ml/input/data/train?format=csv&label_column=0&delimiter=,\u001b[0m\n",
      "\u001b[34mINFO:root:Determined delimiter of CSV input is ','\u001b[0m\n",
      "\u001b[34m[05:13:23] 116x11 matrix with 1276 entries loaded from /opt/ml/input/data/validation?format=csv&label_column=0&delimiter=,\u001b[0m\n",
      "\u001b[34mINFO:root:Single node training.\u001b[0m\n",
      "\u001b[34mINFO:root:Train matrix has 460 rows\u001b[0m\n",
      "\u001b[34mINFO:root:Validation matrix has 116 rows\u001b[0m\n",
      "\u001b[34m[0]#011train-auc:0.82871#011validation-auc:0.62969\u001b[0m\n",
      "\u001b[34m[1]#011train-auc:0.86155#011validation-auc:0.65017\u001b[0m\n",
      "\u001b[34m[2]#011train-auc:0.88401#011validation-auc:0.64149\u001b[0m\n",
      "\u001b[34m[3]#011train-auc:0.88704#011validation-auc:0.67049\u001b[0m\n",
      "\u001b[34m[4]#011train-auc:0.89812#011validation-auc:0.70330\u001b[0m\n",
      "\u001b[34m[5]#011train-auc:0.90241#011validation-auc:0.72517\u001b[0m\n",
      "\u001b[34m[6]#011train-auc:0.90427#011validation-auc:0.71528\u001b[0m\n",
      "\u001b[34m[7]#011train-auc:0.90453#011validation-auc:0.71059\u001b[0m\n",
      "\u001b[34m[8]#011train-auc:0.90856#011validation-auc:0.71163\u001b[0m\n",
      "\u001b[34m[9]#011train-auc:0.91246#011validation-auc:0.71754\u001b[0m\n",
      "Training seconds: 67\n",
      "Billable seconds: 67\n"
     ]
    }
   ],
   "source": [
    "estimator.fit(inputs=data_channels, logs=True)"
   ]
  },
  {
   "cell_type": "code",
   "execution_count": 98,
   "metadata": {},
   "outputs": [
    {
     "name": "stderr",
     "output_type": "stream",
     "text": [
      "Parameter image will be renamed to image_uri in SageMaker Python SDK v2.\n"
     ]
    },
    {
     "name": "stdout",
     "output_type": "stream",
     "text": [
      "---------------!"
     ]
    }
   ],
   "source": [
    "#deploying the model and create an end point\n",
    "predictor = estimator.deploy(initial_instance_count = 1,\n",
    "                             instance_type = 'ml.m4.xlarge',\n",
    "                             endpoint_name = 'xgboost-loanprediction-ver1')"
   ]
  },
  {
   "cell_type": "code",
   "execution_count": null,
   "metadata": {},
   "outputs": [],
   "source": []
  }
 ],
 "metadata": {
  "kernelspec": {
   "display_name": "conda_python3",
   "language": "python",
   "name": "conda_python3"
  },
  "language_info": {
   "codemirror_mode": {
    "name": "ipython",
    "version": 3
   },
   "file_extension": ".py",
   "mimetype": "text/x-python",
   "name": "python",
   "nbconvert_exporter": "python",
   "pygments_lexer": "ipython3",
   "version": "3.6.10"
  }
 },
 "nbformat": 4,
 "nbformat_minor": 4
}
