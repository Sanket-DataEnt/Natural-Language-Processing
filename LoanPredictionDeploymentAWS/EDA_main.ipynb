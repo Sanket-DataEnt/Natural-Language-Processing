{
 "cells": [
  {
   "cell_type": "code",
   "execution_count": 1,
   "metadata": {},
   "outputs": [],
   "source": [
    "#boto3 => Pyhton library for calling up AWS services\n",
    "import boto3\n",
    "import sagemaker\n",
    "from sagemaker import get_execution_role"
   ]
  },
  {
   "cell_type": "markdown",
   "metadata": {},
   "source": [
    "upload the datasets into S3 bucket"
   ]
  },
  {
   "cell_type": "code",
   "execution_count": 2,
   "metadata": {},
   "outputs": [],
   "source": [
    "#provide the name and location of the files to be stored in the S3 bucket\n",
    "bucket_name = 's3loanprediction'\n",
    "train_file_name = 'Loan Prediction/Train_final.csv'\n",
    "val_file_name = 'Loan Prediction/Val_final.csv'\n",
    "test_file_name = 'Loan Prediction/Test_final.csv'\n",
    "\n",
    "model_output_location = r's3://{0}/LoanPrediction/model'.format(bucket_name)\n",
    "train_file_location = r's3://{0}/{1}'.format(bucket_name, train_file_name)\n",
    "val_file_location = r's3://{0}/{1}'.format(bucket_name, val_file_name)\n",
    "test_file_location = r's3://{0}/{1}'.format(bucket_name, test_file_name)"
   ]
  },
  {
   "cell_type": "code",
   "execution_count": 3,
   "metadata": {},
   "outputs": [],
   "source": [
    "#define a method for writing into s3 bucket\n",
    "def write_to_s3(filename, bucket, key):\n",
    "    with open(filename, 'rb') as f:\n",
    "        return boto3.Session().resource('s3').Bucket(bucket).Object(key).upload_fileobj(f)"
   ]
  },
  {
   "cell_type": "code",
   "execution_count": 4,
   "metadata": {},
   "outputs": [],
   "source": [
    "write_to_s3('Train_final.csv', bucket_name, train_file_name)\n",
    "write_to_s3('Val_final.csv', bucket_name, val_file_name)\n",
    "write_to_s3('Test_final.csv', bucket_name, test_file_name)"
   ]
  },
  {
   "cell_type": "markdown",
   "metadata": {},
   "source": [
    "## Training Algorithm Docker Image\n",
    "### SageMaker maintains a separate image for algorithm and region\n",
    "https://docs.aws.amazon.com/sagemaker/latest/dg/sagemaker-algo-docker-registry-paths.html"
   ]
  },
  {
   "cell_type": "code",
   "execution_count": 5,
   "metadata": {},
   "outputs": [],
   "source": [
    "# Establish a session with AWS\n",
    "sess = sagemaker.Session()"
   ]
  },
  {
   "cell_type": "code",
   "execution_count": 6,
   "metadata": {},
   "outputs": [],
   "source": [
    "role = get_execution_role()"
   ]
  },
  {
   "cell_type": "code",
   "execution_count": 7,
   "metadata": {},
   "outputs": [
    {
     "name": "stdout",
     "output_type": "stream",
     "text": [
      "arn:aws:iam::267391731566:role/service-role/AmazonSageMaker-ExecutionRole-20200909T224279\n"
     ]
    }
   ],
   "source": [
    "# This role contains the permissions needed to train, deploy models\n",
    "# SageMaker Service is trusted to assume this role\n",
    "print(role)"
   ]
  },
  {
   "cell_type": "raw",
   "metadata": {},
   "source": [
    "In the past, we had to maintain the algorithm containers mapping:\n",
    "\n",
    "\n",
    "containers = {'us-west-2': '433757028032.dkr.ecr.us-west-2.amazonaws.com/xgboost:latest',\n",
    "              'us-east-1': '811284229777.dkr.ecr.us-east-1.amazonaws.com/xgboost:latest',\n",
    "              'us-east-2': '825641698319.dkr.ecr.us-east-2.amazonaws.com/xgboost:latest',\n",
    "              'eu-west-1': '685385470294.dkr.ecr.eu-west-1.amazonaws.com/xgboost:latest'}\n",
    "\n",
    "Reference:\n",
    "https://docs.aws.amazon.com/sagemaker/latest/dg/sagemaker-algo-docker-registry-paths.html"
   ]
  },
  {
   "cell_type": "code",
   "execution_count": 8,
   "metadata": {},
   "outputs": [
    {
     "name": "stderr",
     "output_type": "stream",
     "text": [
      "The method get_image_uri has been renamed in sagemaker>=2.\n",
      "See: https://sagemaker.readthedocs.io/en/stable/v2.html for details.\n"
     ]
    },
    {
     "name": "stdout",
     "output_type": "stream",
     "text": [
      "Using SageMaker XGBoost container:\n",
      "811284229777.dkr.ecr.us-east-1.amazonaws.com/xgboost:latest (us-east-1)\n"
     ]
    }
   ],
   "source": [
    "# Sagemaker API now maintains the algorithm container mapping for us\n",
    "# Specify the region, algorithm and version\n",
    "container = sagemaker.amazon.amazon_estimator.get_image_uri(\n",
    "    sess.boto_region_name,\n",
    "    \"xgboost\", \n",
    "    \"latest\")\n",
    "\n",
    "# container = {'us-east-1': '683313688378.dkr.ecr.us-east-1.amazonaws.com/sagemaker-xgboost:1.0-1-cpu-py3'}\n",
    "\n",
    "print('Using SageMaker XGBoost container:\\n{} ({})'.format(container, sess.boto_region_name))"
   ]
  },
  {
   "cell_type": "code",
   "execution_count": 9,
   "metadata": {},
   "outputs": [
    {
     "name": "stdout",
     "output_type": "stream",
     "text": [
      "us-east-1\n"
     ]
    }
   ],
   "source": [
    "print(boto3.Session().region_name)"
   ]
  },
  {
   "cell_type": "markdown",
   "metadata": {},
   "source": [
    "## Build Model"
   ]
  },
  {
   "cell_type": "code",
   "execution_count": 10,
   "metadata": {},
   "outputs": [
    {
     "name": "stderr",
     "output_type": "stream",
     "text": [
      "train_instance_count has been renamed in sagemaker>=2.\n",
      "See: https://sagemaker.readthedocs.io/en/stable/v2.html for details.\n",
      "train_instance_type has been renamed in sagemaker>=2.\n",
      "See: https://sagemaker.readthedocs.io/en/stable/v2.html for details.\n"
     ]
    }
   ],
   "source": [
    "# Configure the training job\n",
    "# Specify type and number of instances to use\n",
    "# S3 location where final artifacts needs to be stored\n",
    "\n",
    "#   Reference: http://sagemaker.readthedocs.io/en/latest/estimators.html\n",
    "\n",
    "estimator = sagemaker.estimator.Estimator(\n",
    "    container,\n",
    "    role, \n",
    "    train_instance_count=1, \n",
    "    train_instance_type='ml.m4.xlarge',\n",
    "    output_path=model_output_location,\n",
    "    sagemaker_session=sess,\n",
    "    base_job_name ='xgboost-loanprediction')"
   ]
  },
  {
   "cell_type": "code",
   "execution_count": 11,
   "metadata": {},
   "outputs": [],
   "source": [
    "#setting hyperparameters corresponding to the XGBoost algorithm\n",
    "estimator.set_hyperparameters(max_depth=5, \n",
    "                              objective = 'binary:logistic', \n",
    "                              eta=0.1,\n",
    "                              subsample=0.7,\n",
    "                              num_round=10,\n",
    "                              eval_metric = 'auc')"
   ]
  },
  {
   "cell_type": "code",
   "execution_count": 12,
   "metadata": {},
   "outputs": [
    {
     "data": {
      "text/plain": [
       "{'max_depth': 5,\n",
       " 'objective': 'binary:logistic',\n",
       " 'eta': 0.1,\n",
       " 'subsample': 0.7,\n",
       " 'num_round': 10,\n",
       " 'eval_metric': 'auc'}"
      ]
     },
     "execution_count": 12,
     "metadata": {},
     "output_type": "execute_result"
    }
   ],
   "source": [
    "estimator.hyperparameters()"
   ]
  },
  {
   "cell_type": "code",
   "execution_count": 13,
   "metadata": {},
   "outputs": [
    {
     "name": "stderr",
     "output_type": "stream",
     "text": [
      "The class sagemaker.session.s3_input has been renamed in sagemaker>=2.\n",
      "See: https://sagemaker.readthedocs.io/en/stable/v2.html for details.\n",
      "The class sagemaker.session.s3_input has been renamed in sagemaker>=2.\n",
      "See: https://sagemaker.readthedocs.io/en/stable/v2.html for details.\n"
     ]
    }
   ],
   "source": [
    "#training the model using fit model\n",
    "training_file = sagemaker.session.s3_input(s3_data=train_file_location, content_type = \"csv\")\n",
    "validation_file = sagemaker.session.s3_input(s3_data=val_file_location, content_type = \"csv\")"
   ]
  },
  {
   "cell_type": "code",
   "execution_count": 14,
   "metadata": {},
   "outputs": [
    {
     "name": "stdout",
     "output_type": "stream",
     "text": [
      "{'DataSource': {'S3DataSource': {'S3DataType': 'S3Prefix', 'S3Uri': 's3://s3loanprediction/Loan Prediction/Train_final.csv', 'S3DataDistributionType': 'FullyReplicated'}}, 'ContentType': 'csv'}\n"
     ]
    }
   ],
   "source": [
    "print(training_file.config)"
   ]
  },
  {
   "cell_type": "code",
   "execution_count": 15,
   "metadata": {},
   "outputs": [
    {
     "name": "stdout",
     "output_type": "stream",
     "text": [
      "{'DataSource': {'S3DataSource': {'S3DataType': 'S3Prefix', 'S3Uri': 's3://s3loanprediction/Loan Prediction/Val_final.csv', 'S3DataDistributionType': 'FullyReplicated'}}, 'ContentType': 'csv'}\n"
     ]
    }
   ],
   "source": [
    "print(validation_file.config)"
   ]
  },
  {
   "cell_type": "code",
   "execution_count": 16,
   "metadata": {},
   "outputs": [],
   "source": [
    "data_channels = {'train':training_file, 'validation':validation_file}"
   ]
  },
  {
   "cell_type": "markdown",
   "metadata": {},
   "source": [
    "### Train the model"
   ]
  },
  {
   "cell_type": "code",
   "execution_count": 17,
   "metadata": {},
   "outputs": [
    {
     "name": "stdout",
     "output_type": "stream",
     "text": [
      "2021-04-12 13:15:44 Starting - Starting the training job...\n",
      "2021-04-12 13:15:46 Starting - Launching requested ML instancesProfilerReport-1618233344: InProgress\n",
      "......\n",
      "2021-04-12 13:17:03 Starting - Preparing the instances for training.........\n",
      "2021-04-12 13:18:40 Downloading - Downloading input data...\n",
      "2021-04-12 13:19:00 Training - Downloading the training image..\u001b[34mArguments: train\u001b[0m\n",
      "\u001b[34m[2021-04-12:13:19:25:INFO] Running standalone xgboost training.\u001b[0m\n",
      "\u001b[34m[2021-04-12:13:19:25:INFO] File size need to be processed in the node: 0.05mb. Available memory size in the node: 8407.61mb\u001b[0m\n",
      "\u001b[34m[2021-04-12:13:19:25:INFO] Determined delimiter of CSV input is ','\u001b[0m\n",
      "\u001b[34m[13:19:25] S3DistributionType set as FullyReplicated\u001b[0m\n",
      "\u001b[34m[13:19:25] 460x11 matrix with 5060 entries loaded from /opt/ml/input/data/train?format=csv&label_column=0&delimiter=,\u001b[0m\n",
      "\u001b[34m[2021-04-12:13:19:25:INFO] Determined delimiter of CSV input is ','\u001b[0m\n",
      "\u001b[34m[13:19:25] S3DistributionType set as FullyReplicated\u001b[0m\n",
      "\u001b[34m[13:19:25] 116x11 matrix with 1276 entries loaded from /opt/ml/input/data/validation?format=csv&label_column=0&delimiter=,\u001b[0m\n",
      "\u001b[34m[13:19:25] src/tree/updater_prune.cc:74: tree pruning end, 1 roots, 44 extra nodes, 0 pruned nodes, max_depth=5\u001b[0m\n",
      "\u001b[34m[0]#011train-auc:0.853231#011validation-auc:0.653993\u001b[0m\n",
      "\u001b[34m[13:19:25] src/tree/updater_prune.cc:74: tree pruning end, 1 roots, 38 extra nodes, 0 pruned nodes, max_depth=5\u001b[0m\n",
      "\u001b[34m[1]#011train-auc:0.878337#011validation-auc:0.671701\u001b[0m\n",
      "\u001b[34m[13:19:25] src/tree/updater_prune.cc:74: tree pruning end, 1 roots, 36 extra nodes, 0 pruned nodes, max_depth=5\u001b[0m\n",
      "\u001b[34m[2]#011train-auc:0.890302#011validation-auc:0.647917\u001b[0m\n",
      "\u001b[34m[13:19:25] src/tree/updater_prune.cc:74: tree pruning end, 1 roots, 34 extra nodes, 0 pruned nodes, max_depth=5\u001b[0m\n",
      "\u001b[34m[3]#011train-auc:0.894021#011validation-auc:0.64809\u001b[0m\n",
      "\u001b[34m[13:19:25] src/tree/updater_prune.cc:74: tree pruning end, 1 roots, 36 extra nodes, 0 pruned nodes, max_depth=5\u001b[0m\n",
      "\u001b[34m[4]#011train-auc:0.90111#011validation-auc:0.659722\u001b[0m\n",
      "\u001b[34m[13:19:25] src/tree/updater_prune.cc:74: tree pruning end, 1 roots, 24 extra nodes, 0 pruned nodes, max_depth=5\u001b[0m\n",
      "\u001b[34m[5]#011train-auc:0.897675#011validation-auc:0.664931\u001b[0m\n",
      "\u001b[34m[13:19:25] src/tree/updater_prune.cc:74: tree pruning end, 1 roots, 38 extra nodes, 0 pruned nodes, max_depth=5\u001b[0m\n",
      "\u001b[34m[6]#011train-auc:0.900947#011validation-auc:0.66441\u001b[0m\n",
      "\u001b[34m[13:19:25] src/tree/updater_prune.cc:74: tree pruning end, 1 roots, 38 extra nodes, 0 pruned nodes, max_depth=5\u001b[0m\n",
      "\u001b[34m[7]#011train-auc:0.900314#011validation-auc:0.66441\u001b[0m\n",
      "\u001b[34m[13:19:25] src/tree/updater_prune.cc:74: tree pruning end, 1 roots, 34 extra nodes, 0 pruned nodes, max_depth=5\u001b[0m\n",
      "\u001b[34m[8]#011train-auc:0.905527#011validation-auc:0.671007\u001b[0m\n",
      "\u001b[34m[13:19:25] src/tree/updater_prune.cc:74: tree pruning end, 1 roots, 26 extra nodes, 0 pruned nodes, max_depth=5\u001b[0m\n",
      "\u001b[34m[9]#011train-auc:0.908614#011validation-auc:0.668924\u001b[0m\n",
      "\n",
      "2021-04-12 13:19:40 Uploading - Uploading generated training model\n",
      "2021-04-12 13:19:40 Completed - Training job completed\n",
      "Training seconds: 70\n",
      "Billable seconds: 70\n"
     ]
    }
   ],
   "source": [
    "# XGBoost supports \"train\", \"validation\" channels\n",
    "# Reference: Supported channels by algorithm\n",
    "#   https://docs.aws.amazon.com/sagemaker/latest/dg/sagemaker-algo-docker-registry-paths.html\n",
    "estimator.fit(inputs=data_channels, logs=True)"
   ]
  },
  {
   "cell_type": "markdown",
   "metadata": {},
   "source": [
    "### Deploying the Model"
   ]
  },
  {
   "cell_type": "code",
   "execution_count": 18,
   "metadata": {},
   "outputs": [
    {
     "name": "stdout",
     "output_type": "stream",
     "text": [
      "-----------------!"
     ]
    }
   ],
   "source": [
    "#deploying the model and create an end point\n",
    "predictor = estimator.deploy(initial_instance_count = 1,\n",
    "                             instance_type = 'ml.m4.xlarge',\n",
    "                             endpoint_name = 'xgboost-loanprediction-ver1')"
   ]
  },
  {
   "cell_type": "code",
   "execution_count": null,
   "metadata": {},
   "outputs": [],
   "source": []
  }
 ],
 "metadata": {
  "kernelspec": {
   "display_name": "conda_python3",
   "language": "python",
   "name": "conda_python3"
  },
  "language_info": {
   "codemirror_mode": {
    "name": "ipython",
    "version": 3
   },
   "file_extension": ".py",
   "mimetype": "text/x-python",
   "name": "python",
   "nbconvert_exporter": "python",
   "pygments_lexer": "ipython3",
   "version": "3.6.13"
  }
 },
 "nbformat": 4,
 "nbformat_minor": 4
}
