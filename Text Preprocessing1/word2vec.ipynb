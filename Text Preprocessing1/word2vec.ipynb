{
 "metadata": {
  "language_info": {
   "codemirror_mode": {
    "name": "ipython",
    "version": 3
   },
   "file_extension": ".py",
   "mimetype": "text/x-python",
   "name": "python",
   "nbconvert_exporter": "python",
   "pygments_lexer": "ipython3",
   "version": "3.7.3-final"
  },
  "orig_nbformat": 2,
  "kernelspec": {
   "name": "Python 3.7.3 64-bit ('myenv')",
   "display_name": "Python 3.7.3 64-bit ('myenv')",
   "metadata": {
    "interpreter": {
     "hash": "170dfd75bbdcd32451e091f093f6426289aaea76147603dfc2a4c34617afbc1c"
    }
   }
  }
 },
 "nbformat": 4,
 "nbformat_minor": 2,
 "cells": [
  {
   "cell_type": "code",
   "execution_count": 1,
   "metadata": {},
   "outputs": [],
   "source": [
    "# importing libraries\n",
    "\n",
    "import nltk\n",
    "from gensim.models import Word2Vec\n",
    "from nltk.corpus import stopwords\n",
    "import re"
   ]
  },
  {
   "cell_type": "code",
   "execution_count": 7,
   "metadata": {},
   "outputs": [],
   "source": [
    "paragraph = \"\"\"I have three visions for India. In 3000 years of our history, people from all over \n",
    "               the world have come and invaded us, captured our lands, conquered our minds. \n",
    "               From Alexander onwards, the Greeks, the Turks, the Moguls, the Portuguese, the British,\n",
    "               the French, the Dutch, all of them came and looted us, took over what was ours. \n",
    "               Yet we have not done this to any other nation. We have not conquered anyone. \n",
    "               We have not grabbed their land, their culture, \n",
    "               their history and tried to enforce our way of life on them. \n",
    "               Why? Because we respect the freedom of others.That is why my \n",
    "               first vision is that of freedom. I believe that India got its first vision of \n",
    "               this in 1857, when we started the War of Independence. It is this freedom that\n",
    "               we must protect and nurture and build on. If we are not free, no one will respect us.\n",
    "               My second vision for India’s development. For fifty years we have been a developing nation.\n",
    "               It is time we see ourselves as a developed nation. We are among the top 5 nations of the world\n",
    "               in terms of GDP. We have a 10 percent growth rate in most areas. Our poverty levels are falling.\n",
    "               Our achievements are being globally recognised today. Yet we lack the self-confidence to\n",
    "               see ourselves as a developed nation, self-reliant and self-assured. Isn’t this incorrect?\n",
    "               I have a third vision. India must stand up to the world. Because I believe that unless India \n",
    "               stands up to the world, no one will respect us. Only strength respects strength. We must be \n",
    "               strong not only as a military power but also as an economic power. Both must go hand-in-hand. \n",
    "               My good fortune was to have worked with three great minds. Dr. Vikram Sarabhai of the Dept. of \n",
    "               space, Professor Satish Dhawan, who succeeded him and Dr. Brahm Prakash, father of nuclear material.\n",
    "               I was lucky to have worked with all three of them closely and consider this the great opportunity of my life. \n",
    "               I see four milestones in my career\"\"\""
   ]
  },
  {
   "source": [
    "### Preprocessing the data"
   ],
   "cell_type": "markdown",
   "metadata": {}
  },
  {
   "cell_type": "code",
   "execution_count": 13,
   "metadata": {},
   "outputs": [],
   "source": [
    "# Cleaning the data\n",
    "\n",
    "text = re.sub(r'\\[[0-9]*\\]', ' ', paragraph) #removing digits\n",
    "text = re.sub(r'\\d',' ', text)\n",
    "text = text.lower()\n",
    "text = re.sub(r'\\s+', ' ', text) #removing spaces"
   ]
  },
  {
   "cell_type": "code",
   "execution_count": 14,
   "metadata": {},
   "outputs": [
    {
     "output_type": "execute_result",
     "data": {
      "text/plain": [
       "'i have three visions for india. in years of our history, people from all over the world have come and invaded us, captured our lands, conquered our minds. from alexander onwards, the greeks, the turks, the moguls, the portuguese, the british, the french, the dutch, all of them came and looted us, took over what was ours. yet we have not done this to any other nation. we have not conquered anyone. we have not grabbed their land, their culture, their history and tried to enforce our way of life on them. why? because we respect the freedom of others.that is why my first vision is that of freedom. i believe that india got its first vision of this in , when we started the war of independence. it is this freedom that we must protect and nurture and build on. if we are not free, no one will respect us. my second vision for india’s development. for fifty years we have been a developing nation. it is time we see ourselves as a developed nation. we are among the top nations of the world in terms of gdp. we have a percent growth rate in most areas. our poverty levels are falling. our achievements are being globally recognised today. yet we lack the self-confidence to see ourselves as a developed nation, self-reliant and self-assured. isn’t this incorrect? i have a third vision. india must stand up to the world. because i believe that unless india stands up to the world, no one will respect us. only strength respects strength. we must be strong not only as a military power but also as an economic power. both must go hand-in-hand. my good fortune was to have worked with three great minds. dr. vikram sarabhai of the dept. of space, professor satish dhawan, who succeeded him and dr. brahm prakash, father of nuclear material. i was lucky to have worked with all three of them closely and consider this the great opportunity of my life. i see four milestones in my career'"
      ]
     },
     "metadata": {},
     "execution_count": 14
    }
   ],
   "source": [
    "text"
   ]
  },
  {
   "cell_type": "code",
   "execution_count": 15,
   "metadata": {},
   "outputs": [
    {
     "output_type": "execute_result",
     "data": {
      "text/plain": [
       "['i have three visions for india.',\n",
       " 'in years of our history, people from all over the world have come and invaded us, captured our lands, conquered our minds.',\n",
       " 'from alexander onwards, the greeks, the turks, the moguls, the portuguese, the british, the french, the dutch, all of them came and looted us, took over what was ours.',\n",
       " 'yet we have not done this to any other nation.',\n",
       " 'we have not conquered anyone.',\n",
       " 'we have not grabbed their land, their culture, their history and tried to enforce our way of life on them.',\n",
       " 'why?',\n",
       " 'because we respect the freedom of others.that is why my first vision is that of freedom.',\n",
       " 'i believe that india got its first vision of this in , when we started the war of independence.',\n",
       " 'it is this freedom that we must protect and nurture and build on.',\n",
       " 'if we are not free, no one will respect us.',\n",
       " 'my second vision for india’s development.',\n",
       " 'for fifty years we have been a developing nation.',\n",
       " 'it is time we see ourselves as a developed nation.',\n",
       " 'we are among the top nations of the world in terms of gdp.',\n",
       " 'we have a percent growth rate in most areas.',\n",
       " 'our poverty levels are falling.',\n",
       " 'our achievements are being globally recognised today.',\n",
       " 'yet we lack the self-confidence to see ourselves as a developed nation, self-reliant and self-assured.',\n",
       " 'isn’t this incorrect?',\n",
       " 'i have a third vision.',\n",
       " 'india must stand up to the world.',\n",
       " 'because i believe that unless india stands up to the world, no one will respect us.',\n",
       " 'only strength respects strength.',\n",
       " 'we must be strong not only as a military power but also as an economic power.',\n",
       " 'both must go hand-in-hand.',\n",
       " 'my good fortune was to have worked with three great minds.',\n",
       " 'dr. vikram sarabhai of the dept.',\n",
       " 'of space, professor satish dhawan, who succeeded him and dr. brahm prakash, father of nuclear material.',\n",
       " 'i was lucky to have worked with all three of them closely and consider this the great opportunity of my life.',\n",
       " 'i see four milestones in my career']"
      ]
     },
     "metadata": {},
     "execution_count": 15
    }
   ],
   "source": [
    "# tokenizing the sentences\n",
    "\n",
    "sent = nltk.sent_tokenize(text)\n",
    "sent"
   ]
  },
  {
   "cell_type": "code",
   "execution_count": 16,
   "metadata": {},
   "outputs": [
    {
     "output_type": "execute_result",
     "data": {
      "text/plain": [
       "['i', 'have', 'three', 'visions', 'for', 'india', '.']"
      ]
     },
     "metadata": {},
     "execution_count": 16
    }
   ],
   "source": [
    "sent = [nltk.word_tokenize(word) for word in sent]\n",
    "sent[0]"
   ]
  },
  {
   "cell_type": "code",
   "execution_count": 19,
   "metadata": {},
   "outputs": [],
   "source": [
    "#removing stopwords\n",
    "for i in range(len(sent)):\n",
    "    sent[i] = [word for word in sent[i] if not word in stopwords.words('english')]"
   ]
  },
  {
   "cell_type": "code",
   "execution_count": 20,
   "metadata": {},
   "outputs": [
    {
     "output_type": "execute_result",
     "data": {
      "text/plain": [
       "['three', 'visions', 'india', '.']"
      ]
     },
     "metadata": {},
     "execution_count": 20
    }
   ],
   "source": [
    "sent[0]"
   ]
  },
  {
   "cell_type": "code",
   "execution_count": 22,
   "metadata": {},
   "outputs": [],
   "source": [
    "# Training word2vec model on above corpus\n",
    "model = Word2Vec(sent, min_count=1)"
   ]
  },
  {
   "cell_type": "code",
   "execution_count": 23,
   "metadata": {},
   "outputs": [],
   "source": [
    "words = model.wv.vocab"
   ]
  },
  {
   "cell_type": "code",
   "execution_count": 29,
   "metadata": {},
   "outputs": [
    {
     "output_type": "execute_result",
     "data": {
      "text/plain": [
       "{'three': <gensim.models.keyedvectors.Vocab at 0x7f85565f3ef0>,\n",
       " 'visions': <gensim.models.keyedvectors.Vocab at 0x7f85565f34a8>,\n",
       " 'india': <gensim.models.keyedvectors.Vocab at 0x7f85565f32b0>,\n",
       " '.': <gensim.models.keyedvectors.Vocab at 0x7f85565f36a0>,\n",
       " 'years': <gensim.models.keyedvectors.Vocab at 0x7f85565f3eb8>,\n",
       " 'history': <gensim.models.keyedvectors.Vocab at 0x7f85565f31d0>,\n",
       " ',': <gensim.models.keyedvectors.Vocab at 0x7f85565f38d0>,\n",
       " 'people': <gensim.models.keyedvectors.Vocab at 0x7f85565f3390>,\n",
       " 'world': <gensim.models.keyedvectors.Vocab at 0x7f85565f35c0>,\n",
       " 'come': <gensim.models.keyedvectors.Vocab at 0x7f85565f3550>,\n",
       " 'invaded': <gensim.models.keyedvectors.Vocab at 0x7f85565f37f0>,\n",
       " 'us': <gensim.models.keyedvectors.Vocab at 0x7f85565f3780>,\n",
       " 'captured': <gensim.models.keyedvectors.Vocab at 0x7f85565f39b0>,\n",
       " 'lands': <gensim.models.keyedvectors.Vocab at 0x7f85565a0cc0>,\n",
       " 'conquered': <gensim.models.keyedvectors.Vocab at 0x7f85565a00b8>,\n",
       " 'minds': <gensim.models.keyedvectors.Vocab at 0x7f85565a0160>,\n",
       " 'alexander': <gensim.models.keyedvectors.Vocab at 0x7f85565a0978>,\n",
       " 'onwards': <gensim.models.keyedvectors.Vocab at 0x7f85565a8c50>,\n",
       " 'greeks': <gensim.models.keyedvectors.Vocab at 0x7f85565a8c88>,\n",
       " 'turks': <gensim.models.keyedvectors.Vocab at 0x7f8556246978>,\n",
       " 'moguls': <gensim.models.keyedvectors.Vocab at 0x7f85565ab320>,\n",
       " 'portuguese': <gensim.models.keyedvectors.Vocab at 0x7f85565abdd8>,\n",
       " 'british': <gensim.models.keyedvectors.Vocab at 0x7f85565abe48>,\n",
       " 'french': <gensim.models.keyedvectors.Vocab at 0x7f857081ac18>,\n",
       " 'dutch': <gensim.models.keyedvectors.Vocab at 0x7f855658ccf8>,\n",
       " 'came': <gensim.models.keyedvectors.Vocab at 0x7f855658c400>,\n",
       " 'looted': <gensim.models.keyedvectors.Vocab at 0x7f855658cfd0>,\n",
       " 'took': <gensim.models.keyedvectors.Vocab at 0x7f855658cdd8>,\n",
       " 'yet': <gensim.models.keyedvectors.Vocab at 0x7f855658c4a8>,\n",
       " 'done': <gensim.models.keyedvectors.Vocab at 0x7f855658c5c0>,\n",
       " 'nation': <gensim.models.keyedvectors.Vocab at 0x7f855658cf60>,\n",
       " 'anyone': <gensim.models.keyedvectors.Vocab at 0x7f855658c860>,\n",
       " 'grabbed': <gensim.models.keyedvectors.Vocab at 0x7f855658cda0>,\n",
       " 'land': <gensim.models.keyedvectors.Vocab at 0x7f8556304cf8>,\n",
       " 'culture': <gensim.models.keyedvectors.Vocab at 0x7f85563040f0>,\n",
       " 'tried': <gensim.models.keyedvectors.Vocab at 0x7f8556595dd8>,\n",
       " 'enforce': <gensim.models.keyedvectors.Vocab at 0x7f8556595400>,\n",
       " 'way': <gensim.models.keyedvectors.Vocab at 0x7f8556595748>,\n",
       " 'life': <gensim.models.keyedvectors.Vocab at 0x7f8556595240>,\n",
       " '?': <gensim.models.keyedvectors.Vocab at 0x7f855631f2e8>,\n",
       " 'respect': <gensim.models.keyedvectors.Vocab at 0x7f855631f780>,\n",
       " 'freedom': <gensim.models.keyedvectors.Vocab at 0x7f855631f278>,\n",
       " 'others.that': <gensim.models.keyedvectors.Vocab at 0x7f85565f7048>,\n",
       " 'first': <gensim.models.keyedvectors.Vocab at 0x7f85565f7e10>,\n",
       " 'vision': <gensim.models.keyedvectors.Vocab at 0x7f85565f7668>,\n",
       " 'believe': <gensim.models.keyedvectors.Vocab at 0x7f85565f7978>,\n",
       " 'got': <gensim.models.keyedvectors.Vocab at 0x7f85565f7588>,\n",
       " 'started': <gensim.models.keyedvectors.Vocab at 0x7f85565f7a20>,\n",
       " 'war': <gensim.models.keyedvectors.Vocab at 0x7f85565f75f8>,\n",
       " 'independence': <gensim.models.keyedvectors.Vocab at 0x7f85565f74e0>,\n",
       " 'must': <gensim.models.keyedvectors.Vocab at 0x7f85565f77f0>,\n",
       " 'protect': <gensim.models.keyedvectors.Vocab at 0x7f85565f77b8>,\n",
       " 'nurture': <gensim.models.keyedvectors.Vocab at 0x7f85565f7b38>,\n",
       " 'build': <gensim.models.keyedvectors.Vocab at 0x7f85565f79e8>,\n",
       " 'free': <gensim.models.keyedvectors.Vocab at 0x7f85565f76d8>,\n",
       " 'one': <gensim.models.keyedvectors.Vocab at 0x7f85565f79b0>,\n",
       " 'second': <gensim.models.keyedvectors.Vocab at 0x7f85565f7080>,\n",
       " '’': <gensim.models.keyedvectors.Vocab at 0x7f85565f7470>,\n",
       " 'development': <gensim.models.keyedvectors.Vocab at 0x7f85565f7f98>,\n",
       " 'fifty': <gensim.models.keyedvectors.Vocab at 0x7f85565f7e80>,\n",
       " 'developing': <gensim.models.keyedvectors.Vocab at 0x7f85565f7940>,\n",
       " 'time': <gensim.models.keyedvectors.Vocab at 0x7f85565f7908>,\n",
       " 'see': <gensim.models.keyedvectors.Vocab at 0x7f85565f7ef0>,\n",
       " 'developed': <gensim.models.keyedvectors.Vocab at 0x7f85565f75c0>,\n",
       " 'among': <gensim.models.keyedvectors.Vocab at 0x7f85565f7860>,\n",
       " 'top': <gensim.models.keyedvectors.Vocab at 0x7f85565f7438>,\n",
       " 'nations': <gensim.models.keyedvectors.Vocab at 0x7f85565f7748>,\n",
       " 'terms': <gensim.models.keyedvectors.Vocab at 0x7f85719bf5f8>,\n",
       " 'gdp': <gensim.models.keyedvectors.Vocab at 0x7f85719bf4e0>,\n",
       " 'percent': <gensim.models.keyedvectors.Vocab at 0x7f85719bf7f0>,\n",
       " 'growth': <gensim.models.keyedvectors.Vocab at 0x7f855655db38>,\n",
       " 'rate': <gensim.models.keyedvectors.Vocab at 0x7f855655d5f8>,\n",
       " 'areas': <gensim.models.keyedvectors.Vocab at 0x7f855655db00>,\n",
       " 'poverty': <gensim.models.keyedvectors.Vocab at 0x7f855655d908>,\n",
       " 'levels': <gensim.models.keyedvectors.Vocab at 0x7f855655d8d0>,\n",
       " 'falling': <gensim.models.keyedvectors.Vocab at 0x7f855655d7b8>,\n",
       " 'achievements': <gensim.models.keyedvectors.Vocab at 0x7f855655d9b0>,\n",
       " 'globally': <gensim.models.keyedvectors.Vocab at 0x7f855655d0b8>,\n",
       " 'recognised': <gensim.models.keyedvectors.Vocab at 0x7f855655d2e8>,\n",
       " 'today': <gensim.models.keyedvectors.Vocab at 0x7f855655d160>,\n",
       " 'lack': <gensim.models.keyedvectors.Vocab at 0x7f855655d828>,\n",
       " 'self-confidence': <gensim.models.keyedvectors.Vocab at 0x7f855655de10>,\n",
       " 'self-reliant': <gensim.models.keyedvectors.Vocab at 0x7f8556589438>,\n",
       " 'self-assured': <gensim.models.keyedvectors.Vocab at 0x7f85564316d8>,\n",
       " 'incorrect': <gensim.models.keyedvectors.Vocab at 0x7f8556431240>,\n",
       " 'third': <gensim.models.keyedvectors.Vocab at 0x7f8556431668>,\n",
       " 'stand': <gensim.models.keyedvectors.Vocab at 0x7f85562d9ba8>,\n",
       " 'unless': <gensim.models.keyedvectors.Vocab at 0x7f85562729e8>,\n",
       " 'stands': <gensim.models.keyedvectors.Vocab at 0x7f8556272160>,\n",
       " 'strength': <gensim.models.keyedvectors.Vocab at 0x7f8556272f60>,\n",
       " 'respects': <gensim.models.keyedvectors.Vocab at 0x7f85565faeb8>,\n",
       " 'strong': <gensim.models.keyedvectors.Vocab at 0x7f85565fa438>,\n",
       " 'military': <gensim.models.keyedvectors.Vocab at 0x7f85565fa1d0>,\n",
       " 'power': <gensim.models.keyedvectors.Vocab at 0x7f85565fad30>,\n",
       " 'also': <gensim.models.keyedvectors.Vocab at 0x7f85565fa278>,\n",
       " 'economic': <gensim.models.keyedvectors.Vocab at 0x7f85565fa3c8>,\n",
       " 'go': <gensim.models.keyedvectors.Vocab at 0x7f85565fa908>,\n",
       " 'hand-in-hand': <gensim.models.keyedvectors.Vocab at 0x7f85565fa0b8>,\n",
       " 'good': <gensim.models.keyedvectors.Vocab at 0x7f8556611cc0>,\n",
       " 'fortune': <gensim.models.keyedvectors.Vocab at 0x7f8556611a20>,\n",
       " 'worked': <gensim.models.keyedvectors.Vocab at 0x7f8556554940>,\n",
       " 'great': <gensim.models.keyedvectors.Vocab at 0x7f8556554cf8>,\n",
       " 'dr.': <gensim.models.keyedvectors.Vocab at 0x7f8556554a58>,\n",
       " 'vikram': <gensim.models.keyedvectors.Vocab at 0x7f8556554a90>,\n",
       " 'sarabhai': <gensim.models.keyedvectors.Vocab at 0x7f855641da90>,\n",
       " 'dept': <gensim.models.keyedvectors.Vocab at 0x7f855654b080>,\n",
       " 'space': <gensim.models.keyedvectors.Vocab at 0x7f85716ed358>,\n",
       " 'professor': <gensim.models.keyedvectors.Vocab at 0x7f85716edf98>,\n",
       " 'satish': <gensim.models.keyedvectors.Vocab at 0x7f85565fe5f8>,\n",
       " 'dhawan': <gensim.models.keyedvectors.Vocab at 0x7f85565fe588>,\n",
       " 'succeeded': <gensim.models.keyedvectors.Vocab at 0x7f85565fea90>,\n",
       " 'brahm': <gensim.models.keyedvectors.Vocab at 0x7f85565fe630>,\n",
       " 'prakash': <gensim.models.keyedvectors.Vocab at 0x7f85565fe358>,\n",
       " 'father': <gensim.models.keyedvectors.Vocab at 0x7f855657f828>,\n",
       " 'nuclear': <gensim.models.keyedvectors.Vocab at 0x7f8556243ac8>,\n",
       " 'material': <gensim.models.keyedvectors.Vocab at 0x7f85562434a8>,\n",
       " 'lucky': <gensim.models.keyedvectors.Vocab at 0x7f85562435f8>,\n",
       " 'closely': <gensim.models.keyedvectors.Vocab at 0x7f8556243c50>,\n",
       " 'consider': <gensim.models.keyedvectors.Vocab at 0x7f85563990f0>,\n",
       " 'opportunity': <gensim.models.keyedvectors.Vocab at 0x7f8556399208>,\n",
       " 'four': <gensim.models.keyedvectors.Vocab at 0x7f85563993c8>,\n",
       " 'milestones': <gensim.models.keyedvectors.Vocab at 0x7f8556631ef0>,\n",
       " 'career': <gensim.models.keyedvectors.Vocab at 0x7f8556261390>}"
      ]
     },
     "metadata": {},
     "execution_count": 29
    }
   ],
   "source": [
    "words"
   ]
  },
  {
   "cell_type": "code",
   "execution_count": 33,
   "metadata": {},
   "outputs": [
    {
     "output_type": "stream",
     "name": "stdout",
     "text": [
      "dimension :  100\n[ 4.1415080e-04  1.3280285e-03  1.8803643e-03  2.5805871e-03\n -3.8801951e-03  1.3725070e-03  5.4931175e-04  1.8090584e-03\n -1.6234280e-03  5.8478973e-04 -3.8333933e-03 -3.1960371e-04\n  4.7513596e-03 -2.1615192e-04  4.2349440e-03  3.9808708e-03\n  1.1102307e-03 -3.7256915e-03 -3.0090043e-03  9.0427324e-04\n -2.6087991e-03  1.4395370e-03  4.6354793e-03 -4.2543160e-03\n -1.0992904e-03 -8.9724839e-04  1.1242741e-03 -1.7473659e-03\n  8.1619882e-04  3.9613005e-03 -2.5650666e-03 -4.5501832e-03\n  7.2704157e-04 -2.5495368e-03  4.8261392e-03  1.3895382e-04\n -2.8847791e-03  1.9994543e-03  4.6005035e-03  4.7411541e-03\n -1.1884855e-03 -4.3666558e-03  3.6283457e-06 -1.0145375e-03\n -3.0137447e-03 -6.5417285e-04  8.4061065e-04  2.1840560e-03\n  4.4728206e-03  3.2651944e-03 -3.0432758e-03 -4.8946487e-03\n -2.8983378e-03 -1.7103590e-03 -1.7866426e-03 -2.8489535e-03\n  4.7619842e-04 -4.9571847e-03 -6.3478725e-04 -8.5235073e-04\n -2.4564273e-03 -4.5082807e-03  2.5806432e-03 -7.5830496e-04\n  2.7507509e-05 -3.3757454e-03 -2.3392616e-03  1.3665676e-03\n -1.9011269e-03 -7.4022688e-04  5.3558178e-04  1.0903983e-03\n  3.3092883e-03  1.1465463e-03  3.0480509e-03  4.6777017e-03\n  8.0961204e-04  4.1666259e-03 -2.5405902e-03 -1.4442075e-03\n  3.8076974e-03 -7.1244540e-05 -2.6861657e-03  6.7487656e-04\n -1.8226552e-03 -4.4904938e-03  1.7176751e-03 -4.3021818e-03\n -4.7114533e-03  9.5639774e-04 -4.4613779e-03  3.4208775e-03\n -5.6395604e-04  5.3589826e-04 -9.1613381e-04 -4.3230406e-03\n -1.4466522e-03  7.5509882e-04 -1.0206157e-03 -2.4703653e-03]\n"
     ]
    }
   ],
   "source": [
    "# Finding word vector\n",
    "\n",
    "vector = model.wv['war']\n",
    "print(\"dimension : \",len(vector))\n",
    "print(vector)"
   ]
  },
  {
   "cell_type": "code",
   "execution_count": 36,
   "metadata": {},
   "outputs": [
    {
     "output_type": "execute_result",
     "data": {
      "text/plain": [
       "[('us', 0.22867092490196228),\n",
       " ('others.that', 0.2126132696866989),\n",
       " ('looted', 0.18615293502807617),\n",
       " ('first', 0.1779981553554535),\n",
       " ('self-confidence', 0.16105443239212036),\n",
       " ('developing', 0.15489473938941956),\n",
       " ('prakash', 0.1516197770833969),\n",
       " ('build', 0.15044596791267395),\n",
       " ('?', 0.14620673656463623),\n",
       " ('see', 0.14048661291599274)]"
      ]
     },
     "metadata": {},
     "execution_count": 36
    }
   ],
   "source": [
    "# Finding most similar words\n",
    "similar = model.wv.most_similar('war')\n",
    "similar\n",
    "# these are the words which are mostly used with reference to similar in teh above context."
   ]
  },
  {
   "cell_type": "code",
   "execution_count": null,
   "metadata": {},
   "outputs": [],
   "source": []
  }
 ]
}